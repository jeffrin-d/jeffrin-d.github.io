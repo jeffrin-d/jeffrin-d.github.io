{
  "nbformat": 4,
  "nbformat_minor": 0,
  "metadata": {
    "colab": {
      "name": "Final.ipynb",
      "provenance": [],
      "collapsed_sections": [],
      "authorship_tag": "ABX9TyObKiaJQGeLera0Vdqy/KDo"
    },
    "kernelspec": {
      "name": "python3",
      "display_name": "Python 3"
    },
    "language_info": {
      "name": "python"
    }
  },
  "cells": [
    {
      "cell_type": "markdown",
      "source": [
        "<h1><center>Analysis of Religion's Impact on Countries</center></h1>"
      ],
      "metadata": {
        "id": "wjkis9C7gKh-"
      }
    },
    {
      "cell_type": "markdown",
      "source": [
        "Jeffrin Daniel"
      ],
      "metadata": {
        "id": "w6mT-y4q1OOz"
      }
    },
    {
      "cell_type": "markdown",
      "source": [
        "<h5>Table of Contents:</h5>"
      ],
      "metadata": {
        "id": "NjvjWXJp8_UZ"
      }
    },
    {
      "cell_type": "markdown",
      "source": [
        "1. Introduction\n",
        "2. Data Management/Munging\n",
        "3. Exploratory Data Analysis\n",
        "4. Hypothesis Testing\n",
        "5. Insights and Conclusion"
      ],
      "metadata": {
        "id": "JYBQ-Hta9a7K"
      }
    },
    {
      "cell_type": "markdown",
      "source": [
        "<h4>1. Introduction</h4>"
      ],
      "metadata": {
        "id": "Obvv54R-0neL"
      }
    },
    {
      "cell_type": "markdown",
      "source": [
        "The objective of this tutorial is to examine the impact of religion on various parameters of a country, including GDP per capita, Healthy Life Expectancy, Social Support, Freedom to make life choices, Generosity, and Corruption Perception. These variables were actually used to calculate a \"Happiness Score\" for this dataset, however, this tutorial will primarily look at how impactful religion can be one these variables, some of which are perhaps seemingly unrelated (like GDP per capita and Healthy Life Expectancy). Nevertheless, this analysis will hopefully show some interesting and maybe unexpected trends between religion and the variables above. "
      ],
      "metadata": {
        "id": "UIaZiFZQhhHK"
      }
    },
    {
      "cell_type": "markdown",
      "source": [
        "<h4>2. Data Management/Munging</h4>"
      ],
      "metadata": {
        "id": "sknbdWiT00iK"
      }
    },
    {
      "cell_type": "markdown",
      "source": [
        "For this portion of the tutorial, we will be collecting and cleaning (if needed) the data from websites and online databases.\n",
        "\n",
        "For the data about countries across the world, I used a dataset found on [Kaggle](https://www.kaggle.com/datasets/mathurinache/world-happiness-report) with the variables (**GDP per capita, Healthy Life Expectancy, Social Support, Freedom to make life choices, Generosity, and Corruption Perception**). This dataset includes data for 153 countries and with a time frame from 2015-2022 (updated most recently in March, 2022). "
      ],
      "metadata": {
        "id": "L7yEi4na9oKz"
      }
    },
    {
      "cell_type": "markdown",
      "source": [
        "Here we are using the following tools..."
      ],
      "metadata": {
        "id": "6KOkICpGAY0Q"
      }
    },
    {
      "cell_type": "code",
      "source": [
        "import pandas as pd\n",
        "import numpy as np"
      ],
      "metadata": {
        "id": "2s-pqHxBcGeS"
      },
      "execution_count": 1,
      "outputs": []
    },
    {
      "cell_type": "code",
      "source": [
        "df_2015 = pd.read_csv(\"data/2015.csv\")\n",
        "df_2016 = pd.read_csv(\"data/2016.csv\")\n",
        "df_2017 = pd.read_csv(\"data/2017.csv\")\n",
        "df_2018 = pd.read_csv(\"data/2018.csv\")\n",
        "df_2019 = pd.read_csv(\"data/2019.csv\")\n",
        "df_2020 = pd.read_csv(\"data/2020.csv\")\n",
        "df_2021 = pd.read_csv(\"data/2021.csv\")\n",
        "df_2022 = pd.read_csv(\"data/2022.csv\")"
      ],
      "metadata": {
        "id": "R4jGFk3leLTe"
      },
      "execution_count": 3,
      "outputs": []
    },
    {
      "cell_type": "markdown",
      "source": [
        "<h4>3. Exploratory Data Analysis</h4>"
      ],
      "metadata": {
        "id": "pY2HB_mp04JK"
      }
    },
    {
      "cell_type": "markdown",
      "source": [
        "<h4>4. Hypothesis Testing</h4>"
      ],
      "metadata": {
        "id": "5i3RHHVu033K"
      }
    },
    {
      "cell_type": "markdown",
      "source": [
        "Null Hypothesis:\n",
        "Religion has no affect on parameters such as GDP per capita, Healthy Life Expectancy, Social Support, Freedom to make life choices, Generosity, and Corruption Perception."
      ],
      "metadata": {
        "id": "ADzc4Whlf3Qj"
      }
    },
    {
      "cell_type": "markdown",
      "source": [
        "<h4>5. Insights and Conclusion</h4>"
      ],
      "metadata": {
        "id": "W6AjORzG03xT"
      }
    }
  ]
}